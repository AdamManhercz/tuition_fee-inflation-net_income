{
 "cells": [
  {
   "cell_type": "code",
   "execution_count": 1,
   "id": "397cf247",
   "metadata": {},
   "outputs": [],
   "source": [
    "import pandas as pd\n",
    "import numpy as np\n",
    "import matplotlib.pyplot as plt\n",
    "%matplotlib inline\n",
    "\n",
    "import requests\n",
    "from bs4 import BeautifulSoup"
   ]
  },
  {
   "cell_type": "code",
   "execution_count": 2,
   "id": "abb0dd7f",
   "metadata": {},
   "outputs": [
    {
     "data": {
      "text/plain": [
       "[2012, 2013, 2014, 2015, 2016, 2017, 2018, 2019, 2020, 2021]"
      ]
     },
     "execution_count": 2,
     "metadata": {},
     "output_type": "execute_result"
    }
   ],
   "source": [
    "## observing timespan\n",
    "years = []\n",
    "for i in range(2012,2022):\n",
    "    years.append(i)\n",
    "    \n",
    "years"
   ]
  },
  {
   "cell_type": "code",
   "execution_count": 3,
   "id": "91e8cfdf",
   "metadata": {},
   "outputs": [],
   "source": [
    "df = pd.DataFrame({\"years\":years})"
   ]
  },
  {
   "cell_type": "code",
   "execution_count": 4,
   "id": "5719b113",
   "metadata": {},
   "outputs": [],
   "source": [
    "## evolution of tuition fee of BSc in Business Administration and Management programme at Corvinus University 2012-2021\n",
    "\n",
    "fee = [295000,295000,350000,350000,350000,350000,350000,350000,390000,450000]\n",
    "\n",
    "df[\"fee\"] = fee"
   ]
  },
  {
   "cell_type": "code",
   "execution_count": 5,
   "id": "d9e16c8a",
   "metadata": {},
   "outputs": [],
   "source": [
    "## using bs4 to get the inflation datas\n",
    "r = requests.get(\"https://www.ksh.hu/docs/hun/xstadat/xstadat_eves/i_qsf001.html\")"
   ]
  },
  {
   "cell_type": "code",
   "execution_count": 6,
   "id": "a4ffd5c0",
   "metadata": {},
   "outputs": [],
   "source": [
    "soup = BeautifulSoup(r.content, \"html.parser\")\n",
    "table = soup.find(\"div\", id=\"tbody\")"
   ]
  },
  {
   "cell_type": "code",
   "execution_count": 7,
   "id": "d9e33c8b",
   "metadata": {},
   "outputs": [],
   "source": [
    "rows = table.findAll(\"tr\")[27:]\n",
    "\n",
    "inf = [r.findAll(\"td\")[8].get_text() for r in rows]"
   ]
  },
  {
   "cell_type": "code",
   "execution_count": 8,
   "id": "75dedefd",
   "metadata": {},
   "outputs": [],
   "source": [
    "inf = [i.replace(\",\", \".\") for i in inf]"
   ]
  },
  {
   "cell_type": "code",
   "execution_count": 9,
   "id": "a732f914",
   "metadata": {},
   "outputs": [],
   "source": [
    "## 2021 inflation\n",
    "inf.append(105.1)"
   ]
  },
  {
   "cell_type": "code",
   "execution_count": 10,
   "id": "5cc4803b",
   "metadata": {},
   "outputs": [],
   "source": [
    "inf = [float(i) for i in inf]"
   ]
  },
  {
   "cell_type": "code",
   "execution_count": 11,
   "id": "bd39d7ab",
   "metadata": {},
   "outputs": [
    {
     "data": {
      "text/plain": [
       "[105.7, 101.7, 99.8, 99.9, 100.4, 102.4, 102.8, 103.4, 103.3, 105.1]"
      ]
     },
     "execution_count": 11,
     "metadata": {},
     "output_type": "execute_result"
    }
   ],
   "source": [
    "# inflation accoriding to the prior year\n",
    "inf"
   ]
  },
  {
   "cell_type": "code",
   "execution_count": 12,
   "id": "a9989b1f",
   "metadata": {},
   "outputs": [],
   "source": [
    "# making a list of the real numbers of inflation\n",
    "year_inf = []\n",
    "\n",
    "# list of cumulated inflation rates in the analyzed timespan \n",
    "cum_inf = []\n",
    "inf_sum = 0\n",
    "for num in inf:\n",
    "    if num > 100:\n",
    "        num = num - 100\n",
    "    else:\n",
    "        num = -(100 - num)\n",
    "    num = round(num, 2)\n",
    "    \n",
    "    year_inf.append(num)\n",
    "    inf_sum += num\n",
    "    \n",
    "    cum_inf.append(round(inf_sum, 2))\n",
    " "
   ]
  },
  {
   "cell_type": "code",
   "execution_count": 13,
   "id": "3caa4a3d",
   "metadata": {},
   "outputs": [],
   "source": [
    "df[\"inf_year\"] = year_inf"
   ]
  },
  {
   "cell_type": "code",
   "execution_count": 14,
   "id": "73012b6d",
   "metadata": {},
   "outputs": [],
   "source": [
    "df[\"cum_rates\"] = cum_inf"
   ]
  },
  {
   "cell_type": "code",
   "execution_count": 15,
   "id": "11256428",
   "metadata": {},
   "outputs": [
    {
     "data": {
      "text/html": [
       "<div>\n",
       "<style scoped>\n",
       "    .dataframe tbody tr th:only-of-type {\n",
       "        vertical-align: middle;\n",
       "    }\n",
       "\n",
       "    .dataframe tbody tr th {\n",
       "        vertical-align: top;\n",
       "    }\n",
       "\n",
       "    .dataframe thead th {\n",
       "        text-align: right;\n",
       "    }\n",
       "</style>\n",
       "<table border=\"1\" class=\"dataframe\">\n",
       "  <thead>\n",
       "    <tr style=\"text-align: right;\">\n",
       "      <th></th>\n",
       "      <th>years</th>\n",
       "      <th>fee</th>\n",
       "      <th>inf_year</th>\n",
       "      <th>cum_rates</th>\n",
       "    </tr>\n",
       "  </thead>\n",
       "  <tbody>\n",
       "    <tr>\n",
       "      <th>0</th>\n",
       "      <td>2012</td>\n",
       "      <td>295000</td>\n",
       "      <td>5.7</td>\n",
       "      <td>5.7</td>\n",
       "    </tr>\n",
       "    <tr>\n",
       "      <th>1</th>\n",
       "      <td>2013</td>\n",
       "      <td>295000</td>\n",
       "      <td>1.7</td>\n",
       "      <td>7.4</td>\n",
       "    </tr>\n",
       "    <tr>\n",
       "      <th>2</th>\n",
       "      <td>2014</td>\n",
       "      <td>350000</td>\n",
       "      <td>-0.2</td>\n",
       "      <td>7.2</td>\n",
       "    </tr>\n",
       "    <tr>\n",
       "      <th>3</th>\n",
       "      <td>2015</td>\n",
       "      <td>350000</td>\n",
       "      <td>-0.1</td>\n",
       "      <td>7.1</td>\n",
       "    </tr>\n",
       "    <tr>\n",
       "      <th>4</th>\n",
       "      <td>2016</td>\n",
       "      <td>350000</td>\n",
       "      <td>0.4</td>\n",
       "      <td>7.5</td>\n",
       "    </tr>\n",
       "    <tr>\n",
       "      <th>5</th>\n",
       "      <td>2017</td>\n",
       "      <td>350000</td>\n",
       "      <td>2.4</td>\n",
       "      <td>9.9</td>\n",
       "    </tr>\n",
       "    <tr>\n",
       "      <th>6</th>\n",
       "      <td>2018</td>\n",
       "      <td>350000</td>\n",
       "      <td>2.8</td>\n",
       "      <td>12.7</td>\n",
       "    </tr>\n",
       "    <tr>\n",
       "      <th>7</th>\n",
       "      <td>2019</td>\n",
       "      <td>350000</td>\n",
       "      <td>3.4</td>\n",
       "      <td>16.1</td>\n",
       "    </tr>\n",
       "    <tr>\n",
       "      <th>8</th>\n",
       "      <td>2020</td>\n",
       "      <td>390000</td>\n",
       "      <td>3.3</td>\n",
       "      <td>19.4</td>\n",
       "    </tr>\n",
       "    <tr>\n",
       "      <th>9</th>\n",
       "      <td>2021</td>\n",
       "      <td>450000</td>\n",
       "      <td>5.1</td>\n",
       "      <td>24.5</td>\n",
       "    </tr>\n",
       "  </tbody>\n",
       "</table>\n",
       "</div>"
      ],
      "text/plain": [
       "   years     fee  inf_year  cum_rates\n",
       "0   2012  295000       5.7        5.7\n",
       "1   2013  295000       1.7        7.4\n",
       "2   2014  350000      -0.2        7.2\n",
       "3   2015  350000      -0.1        7.1\n",
       "4   2016  350000       0.4        7.5\n",
       "5   2017  350000       2.4        9.9\n",
       "6   2018  350000       2.8       12.7\n",
       "7   2019  350000       3.4       16.1\n",
       "8   2020  390000       3.3       19.4\n",
       "9   2021  450000       5.1       24.5"
      ]
     },
     "execution_count": 15,
     "metadata": {},
     "output_type": "execute_result"
    }
   ],
   "source": [
    "df"
   ]
  },
  {
   "cell_type": "code",
   "execution_count": 16,
   "id": "20f9f9ac",
   "metadata": {},
   "outputs": [],
   "source": [
    "# nominal changes of the tuition fee in percentage form\n",
    "\n",
    "fee_rate = [0]\n",
    "sum_rate = 0\n",
    "for i in range(0,9):\n",
    "    if i == 0:\n",
    "        fee_rate.append(0)\n",
    "    elif 8 >= i and i > 0:\n",
    "        if fee[i] < fee[i+1]:\n",
    "            fee_num = ((fee[i+1] / fee[i]) - 1) * 100\n",
    "            sum_rate += fee_num \n",
    "            fee_rate.append(round(sum_rate, 2))\n",
    "        else:\n",
    "            sum_rate += 0\n",
    "            fee_rate.append(round(sum_rate, 2))\n",
    "    else:\n",
    "        fee_rate.append(round(sum_rate, 2))"
   ]
  },
  {
   "cell_type": "code",
   "execution_count": 17,
   "id": "932456c7",
   "metadata": {},
   "outputs": [
    {
     "data": {
      "text/plain": [
       "[0, 0, 18.64, 18.64, 18.64, 18.64, 18.64, 18.64, 30.07, 45.46]"
      ]
     },
     "execution_count": 17,
     "metadata": {},
     "output_type": "execute_result"
    }
   ],
   "source": [
    "fee_rate"
   ]
  },
  {
   "cell_type": "code",
   "execution_count": 18,
   "id": "45650236",
   "metadata": {},
   "outputs": [],
   "source": [
    "df[\"fee_increase_%\"] = fee_rate"
   ]
  },
  {
   "cell_type": "code",
   "execution_count": 19,
   "id": "c5d1fe40",
   "metadata": {},
   "outputs": [],
   "source": [
    "df = df[[\"years\", \"fee\", \"fee_increase_%\", \"inf_year\", \"cum_rates\"]]"
   ]
  },
  {
   "cell_type": "code",
   "execution_count": 20,
   "id": "ee8256c5",
   "metadata": {},
   "outputs": [],
   "source": [
    "# inflated changes of the tuition fee\n",
    "inf_fee = df[\"fee_increase_%\"] + df[\"inf_year\"]"
   ]
  },
  {
   "cell_type": "code",
   "execution_count": 21,
   "id": "80a23da5",
   "metadata": {},
   "outputs": [],
   "source": [
    "# correcting the first value\n",
    "inf_fee[0] = 0"
   ]
  },
  {
   "cell_type": "code",
   "execution_count": 22,
   "id": "f804fa29",
   "metadata": {},
   "outputs": [
    {
     "name": "stderr",
     "output_type": "stream",
     "text": [
      "<ipython-input-22-3dc597c987aa>:1: SettingWithCopyWarning: \n",
      "A value is trying to be set on a copy of a slice from a DataFrame.\n",
      "Try using .loc[row_indexer,col_indexer] = value instead\n",
      "\n",
      "See the caveats in the documentation: https://pandas.pydata.org/pandas-docs/stable/user_guide/indexing.html#returning-a-view-versus-a-copy\n",
      "  df[\"inf_fee\"] = inf_fee\n"
     ]
    }
   ],
   "source": [
    "df[\"inf_fee\"] = inf_fee"
   ]
  },
  {
   "cell_type": "code",
   "execution_count": 23,
   "id": "941438bd",
   "metadata": {},
   "outputs": [],
   "source": [
    "df = df.set_index(\"years\")"
   ]
  },
  {
   "cell_type": "code",
   "execution_count": 24,
   "id": "8f902312",
   "metadata": {},
   "outputs": [
    {
     "data": {
      "image/png": "[encoded data removed]",
      "text/plain": [
       "<Figure size 1296x576 with 1 Axes>"
      ]
     },
     "metadata": {
      "needs_background": "light"
     },
     "output_type": "display_data"
    }
   ],
   "source": [
    "plt.figure(figsize=(18,8))\n",
    "plt.xlabel(\"Year\", labelpad=30, fontsize=15)\n",
    "plt.ylabel(\"% Increase\",labelpad=10, fontsize=15)\n",
    "plt.grid(zorder=0)\n",
    "plt.title(\"Tuition fee & Inflation\", fontsize=20)\n",
    "xticks = np.arange(2012,2022,1)\n",
    "plt.xticks(xticks)\n",
    "\n",
    "plt.plot(df.index, df[\"fee_increase_%\"], marker=\"o\", linewidth=4, markersize=10)\n",
    "plt.plot(df.index, df[\"cum_rates\"], marker=\"o\" , color=\"r\", linewidth=4, markersize=10)\n",
    "plt.plot(df.index, df[\"inf_fee\"], marker=\"o\", color=\"g\", linewidth=4, markersize=10)\n",
    "\n",
    "plt.legend(['Nominal change of tutition fee','Inflation',\"Inflated tutition fee\" ], ncol=3, loc='upper center', bbox_to_anchor=(0.5, -0.2),\\\n",
    "                frameon=False, fontsize=18)\n",
    "\n",
    "plt.show()"
   ]
  },
  {
   "cell_type": "code",
   "execution_count": 25,
   "id": "df27d874",
   "metadata": {},
   "outputs": [],
   "source": [
    "## scraping the evolution of the mean net income in Hungary\n",
    "\n",
    "r2 = requests.get(\"https://www.ksh.hu/docs/hun/xstadat/xstadat_eves/i_qli042.html\")"
   ]
  },
  {
   "cell_type": "code",
   "execution_count": 26,
   "id": "a0d9a246",
   "metadata": {},
   "outputs": [],
   "source": [
    "soup = BeautifulSoup(r2.content, \"html.parser\")\n",
    "table = soup.find(\"div\", id=\"tbody\")"
   ]
  },
  {
   "cell_type": "code",
   "execution_count": 27,
   "id": "7cb96e72",
   "metadata": {},
   "outputs": [],
   "source": [
    "rows = table.findAll(\"tr\")[20:]"
   ]
  },
  {
   "cell_type": "code",
   "execution_count": 28,
   "id": "906a3e7c",
   "metadata": {},
   "outputs": [],
   "source": [
    "salary = [r.findAll(\"td\")[2].get_text() for r in rows]"
   ]
  },
  {
   "cell_type": "code",
   "execution_count": 29,
   "id": "8032d6a4",
   "metadata": {},
   "outputs": [
    {
     "data": {
      "text/plain": [
       "['144 085',\n",
       " '151 118',\n",
       " '155 690',\n",
       " '162 391',\n",
       " '175 009',\n",
       " '197 516',\n",
       " '219 412',\n",
       " '244 609',\n",
       " '268 405']"
      ]
     },
     "execution_count": 29,
     "metadata": {},
     "output_type": "execute_result"
    }
   ],
   "source": [
    "salary"
   ]
  },
  {
   "cell_type": "code",
   "execution_count": 30,
   "id": "581148c3",
   "metadata": {},
   "outputs": [],
   "source": [
    "## 2021\n",
    "salary.append(\"286 800\")"
   ]
  },
  {
   "cell_type": "code",
   "execution_count": 31,
   "id": "1aefe524",
   "metadata": {},
   "outputs": [],
   "source": [
    "salary = [int(s.replace(\" \",\"\")) for s in salary]"
   ]
  },
  {
   "cell_type": "code",
   "execution_count": 32,
   "id": "ed7fa789",
   "metadata": {},
   "outputs": [],
   "source": [
    "df[\"mean_net_salary\"] = salary"
   ]
  },
  {
   "cell_type": "code",
   "execution_count": 34,
   "id": "58d4d089",
   "metadata": {},
   "outputs": [],
   "source": [
    "## calculating the cumulated percentage changes of the net income\n",
    "\n",
    "salary_rate = [0]\n",
    "sum_rate = 0\n",
    "for i in range(0,9):\n",
    "    if 8 >= i and i >= 0:\n",
    "        if salary[i] < salary[i+1]:\n",
    "            salary_num = ((salary[i+1] / salary[i]) - 1) * 100\n",
    "            sum_rate += salary_num \n",
    "            salary_rate.append(round(sum_rate, 2))\n",
    "        else:\n",
    "            sum_rate += 0\n",
    "            salary_rate.append(round(sum_rate, 2))\n",
    "    else:\n",
    "        salary_rate.append(round(sum_rate, 2))"
   ]
  },
  {
   "cell_type": "code",
   "execution_count": 35,
   "id": "bffd14ea",
   "metadata": {},
   "outputs": [
    {
     "data": {
      "text/plain": [
       "[0, 4.88, 7.91, 12.21, 19.98, 32.84, 43.93, 55.41, 65.14, 71.99]"
      ]
     },
     "execution_count": 35,
     "metadata": {},
     "output_type": "execute_result"
    }
   ],
   "source": [
    "salary_rate"
   ]
  },
  {
   "cell_type": "code",
   "execution_count": 36,
   "id": "dbbc1cf5",
   "metadata": {},
   "outputs": [],
   "source": [
    "## percentage income increase \n",
    "sal_rate = [0]\n",
    "for i in range(0,10):\n",
    "    if i > 0 and i <= 9:\n",
    "        if salary[i] > salary[i-1]:\n",
    "            sal_num = ((salary[i] / salary[i-1]) - 1) * 100\n",
    "            sal_rate.append(round(sal_num, 2))\n",
    "        else:\n",
    "            sal_rate.append(0)\n",
    "    else:\n",
    "        None"
   ]
  },
  {
   "cell_type": "code",
   "execution_count": 38,
   "id": "58e0f746",
   "metadata": {},
   "outputs": [
    {
     "data": {
      "text/plain": [
       "[0, 4.88, 3.03, 4.3, 7.77, 12.86, 11.09, 11.48, 9.73, 6.85]"
      ]
     },
     "execution_count": 38,
     "metadata": {},
     "output_type": "execute_result"
    }
   ],
   "source": [
    "sal_rate"
   ]
  },
  {
   "cell_type": "code",
   "execution_count": 39,
   "id": "952b35ad",
   "metadata": {},
   "outputs": [],
   "source": [
    "## income increase\n",
    "df[\"salary_rate\"] = sal_rate"
   ]
  },
  {
   "cell_type": "code",
   "execution_count": 40,
   "id": "7bd5b8b7",
   "metadata": {},
   "outputs": [],
   "source": [
    "## cumulated income increase\n",
    "df[\"salary_cum_rate\"] = salary_rate "
   ]
  },
  {
   "cell_type": "code",
   "execution_count": 41,
   "id": "3b90c25e",
   "metadata": {},
   "outputs": [],
   "source": [
    "## getting the real wage\n",
    "real_wage = df[\"salary_cum_rate\"] - df[\"inf_year\"]"
   ]
  },
  {
   "cell_type": "code",
   "execution_count": 42,
   "id": "1413ba64",
   "metadata": {},
   "outputs": [],
   "source": [
    "real_wage[0] = 0"
   ]
  },
  {
   "cell_type": "code",
   "execution_count": 44,
   "id": "aeb28a91",
   "metadata": {},
   "outputs": [],
   "source": [
    "df[\"real_wage_rate\"] = real_wage"
   ]
  },
  {
   "cell_type": "code",
   "execution_count": 45,
   "id": "ba07a6b9",
   "metadata": {},
   "outputs": [
    {
     "data": {
      "text/html": [
       "<div>\n",
       "<style scoped>\n",
       "    .dataframe tbody tr th:only-of-type {\n",
       "        vertical-align: middle;\n",
       "    }\n",
       "\n",
       "    .dataframe tbody tr th {\n",
       "        vertical-align: top;\n",
       "    }\n",
       "\n",
       "    .dataframe thead th {\n",
       "        text-align: right;\n",
       "    }\n",
       "</style>\n",
       "<table border=\"1\" class=\"dataframe\">\n",
       "  <thead>\n",
       "    <tr style=\"text-align: right;\">\n",
       "      <th></th>\n",
       "      <th>fee</th>\n",
       "      <th>fee_increase_%</th>\n",
       "      <th>inf_year</th>\n",
       "      <th>cum_rates</th>\n",
       "      <th>inf_fee</th>\n",
       "      <th>mean_net_salary</th>\n",
       "      <th>salary_rate</th>\n",
       "      <th>salary_cum_rate</th>\n",
       "      <th>real_wage_rate</th>\n",
       "    </tr>\n",
       "    <tr>\n",
       "      <th>years</th>\n",
       "      <th></th>\n",
       "      <th></th>\n",
       "      <th></th>\n",
       "      <th></th>\n",
       "      <th></th>\n",
       "      <th></th>\n",
       "      <th></th>\n",
       "      <th></th>\n",
       "      <th></th>\n",
       "    </tr>\n",
       "  </thead>\n",
       "  <tbody>\n",
       "    <tr>\n",
       "      <th>2012</th>\n",
       "      <td>295000</td>\n",
       "      <td>0.00</td>\n",
       "      <td>5.7</td>\n",
       "      <td>5.7</td>\n",
       "      <td>0.00</td>\n",
       "      <td>144085</td>\n",
       "      <td>0.00</td>\n",
       "      <td>0.00</td>\n",
       "      <td>-5.70</td>\n",
       "    </tr>\n",
       "    <tr>\n",
       "      <th>2013</th>\n",
       "      <td>295000</td>\n",
       "      <td>0.00</td>\n",
       "      <td>1.7</td>\n",
       "      <td>7.4</td>\n",
       "      <td>1.70</td>\n",
       "      <td>151118</td>\n",
       "      <td>4.88</td>\n",
       "      <td>4.88</td>\n",
       "      <td>3.18</td>\n",
       "    </tr>\n",
       "    <tr>\n",
       "      <th>2014</th>\n",
       "      <td>350000</td>\n",
       "      <td>18.64</td>\n",
       "      <td>-0.2</td>\n",
       "      <td>7.2</td>\n",
       "      <td>18.44</td>\n",
       "      <td>155690</td>\n",
       "      <td>3.03</td>\n",
       "      <td>7.91</td>\n",
       "      <td>8.11</td>\n",
       "    </tr>\n",
       "    <tr>\n",
       "      <th>2015</th>\n",
       "      <td>350000</td>\n",
       "      <td>18.64</td>\n",
       "      <td>-0.1</td>\n",
       "      <td>7.1</td>\n",
       "      <td>18.54</td>\n",
       "      <td>162391</td>\n",
       "      <td>4.30</td>\n",
       "      <td>12.21</td>\n",
       "      <td>12.31</td>\n",
       "    </tr>\n",
       "    <tr>\n",
       "      <th>2016</th>\n",
       "      <td>350000</td>\n",
       "      <td>18.64</td>\n",
       "      <td>0.4</td>\n",
       "      <td>7.5</td>\n",
       "      <td>19.04</td>\n",
       "      <td>175009</td>\n",
       "      <td>7.77</td>\n",
       "      <td>19.98</td>\n",
       "      <td>19.58</td>\n",
       "    </tr>\n",
       "    <tr>\n",
       "      <th>2017</th>\n",
       "      <td>350000</td>\n",
       "      <td>18.64</td>\n",
       "      <td>2.4</td>\n",
       "      <td>9.9</td>\n",
       "      <td>21.04</td>\n",
       "      <td>197516</td>\n",
       "      <td>12.86</td>\n",
       "      <td>32.84</td>\n",
       "      <td>30.44</td>\n",
       "    </tr>\n",
       "    <tr>\n",
       "      <th>2018</th>\n",
       "      <td>350000</td>\n",
       "      <td>18.64</td>\n",
       "      <td>2.8</td>\n",
       "      <td>12.7</td>\n",
       "      <td>21.44</td>\n",
       "      <td>219412</td>\n",
       "      <td>11.09</td>\n",
       "      <td>43.93</td>\n",
       "      <td>41.13</td>\n",
       "    </tr>\n",
       "    <tr>\n",
       "      <th>2019</th>\n",
       "      <td>350000</td>\n",
       "      <td>18.64</td>\n",
       "      <td>3.4</td>\n",
       "      <td>16.1</td>\n",
       "      <td>22.04</td>\n",
       "      <td>244609</td>\n",
       "      <td>11.48</td>\n",
       "      <td>55.41</td>\n",
       "      <td>52.01</td>\n",
       "    </tr>\n",
       "    <tr>\n",
       "      <th>2020</th>\n",
       "      <td>390000</td>\n",
       "      <td>30.07</td>\n",
       "      <td>3.3</td>\n",
       "      <td>19.4</td>\n",
       "      <td>33.37</td>\n",
       "      <td>268405</td>\n",
       "      <td>9.73</td>\n",
       "      <td>65.14</td>\n",
       "      <td>61.84</td>\n",
       "    </tr>\n",
       "    <tr>\n",
       "      <th>2021</th>\n",
       "      <td>450000</td>\n",
       "      <td>45.46</td>\n",
       "      <td>5.1</td>\n",
       "      <td>24.5</td>\n",
       "      <td>50.56</td>\n",
       "      <td>286800</td>\n",
       "      <td>6.85</td>\n",
       "      <td>71.99</td>\n",
       "      <td>66.89</td>\n",
       "    </tr>\n",
       "  </tbody>\n",
       "</table>\n",
       "</div>"
      ],
      "text/plain": [
       "          fee  fee_increase_%  inf_year  cum_rates  inf_fee  mean_net_salary  \\\n",
       "years                                                                          \n",
       "2012   295000            0.00       5.7        5.7     0.00           144085   \n",
       "2013   295000            0.00       1.7        7.4     1.70           151118   \n",
       "2014   350000           18.64      -0.2        7.2    18.44           155690   \n",
       "2015   350000           18.64      -0.1        7.1    18.54           162391   \n",
       "2016   350000           18.64       0.4        7.5    19.04           175009   \n",
       "2017   350000           18.64       2.4        9.9    21.04           197516   \n",
       "2018   350000           18.64       2.8       12.7    21.44           219412   \n",
       "2019   350000           18.64       3.4       16.1    22.04           244609   \n",
       "2020   390000           30.07       3.3       19.4    33.37           268405   \n",
       "2021   450000           45.46       5.1       24.5    50.56           286800   \n",
       "\n",
       "       salary_rate  salary_cum_rate  real_wage_rate  \n",
       "years                                                \n",
       "2012          0.00             0.00           -5.70  \n",
       "2013          4.88             4.88            3.18  \n",
       "2014          3.03             7.91            8.11  \n",
       "2015          4.30            12.21           12.31  \n",
       "2016          7.77            19.98           19.58  \n",
       "2017         12.86            32.84           30.44  \n",
       "2018         11.09            43.93           41.13  \n",
       "2019         11.48            55.41           52.01  \n",
       "2020          9.73            65.14           61.84  \n",
       "2021          6.85            71.99           66.89  "
      ]
     },
     "execution_count": 45,
     "metadata": {},
     "output_type": "execute_result"
    }
   ],
   "source": [
    "df"
   ]
  },
  {
   "cell_type": "code",
   "execution_count": 46,
   "id": "256dd7f6",
   "metadata": {},
   "outputs": [
    {
     "data": {
      "image/png": "[encoded data removed]",
      "text/plain": [
       "<Figure size 1440x360 with 2 Axes>"
      ]
     },
     "metadata": {
      "needs_background": "light"
     },
     "output_type": "display_data"
    }
   ],
   "source": [
    "fig, ax = plt.subplots(1,2)\n",
    "\n",
    "fig.set_size_inches(20,5)\n",
    "ax[0].set_xlabel(\"Year\", labelpad=20, fontsize=15)\n",
    "ax[0].set_ylabel(\"% Increase\",labelpad=10, fontsize=15)\n",
    "ax[0].grid(zorder=0)\n",
    "ax[0].set_title(\"Tuition fee & Inflation\", fontsize=20)\n",
    "\n",
    "\n",
    "ax[0].plot(df.index, df[\"fee_increase_%\"], marker=\"o\")\n",
    "ax[0].plot(df.index, df[\"cum_rates\"], marker=\"o\" , color=\"g\")\n",
    "ax[0].plot(df.index, df[\"inf_fee\"], marker=\"o\", color=\"y\")\n",
    "\n",
    "ax[0].legend(['Nominal change of tutition fee','Inflation',\"Inflated tutition fee\" ], ncol=3, loc='upper center', bbox_to_anchor=(0.5, -0.2),\\\n",
    "                frameon=False, fontsize=12)\n",
    "\n",
    "ax[1].set_xlabel(\"Year\", labelpad=20, fontsize=15)\n",
    "ax[1].set_ylabel(\"% Increase\",labelpad=10, fontsize=15)\n",
    "ax[1].grid(zorder=0)\n",
    "ax[1].set_title(\"Net income & Inflation\", fontsize=20)\n",
    "\n",
    "ax[1].plot(df.index, df[\"cum_rates\"], marker=\"o\" , color=\"g\")\n",
    "ax[1].plot(df.index, df[\"salary_cum_rate\"], marker=\"o\" , color=\"r\")\n",
    "ax[1].plot(df.index, df[\"real_wage_rate\"], marker=\"o\" , color=\"b\")\n",
    "\n",
    "ax[1].legend(['Inflation',\"Monthly net income\",\"Real wage\"], ncol=3, loc='upper center', bbox_to_anchor=(0.5, -0.2),\\\n",
    "                frameon=False, fontsize=12)\n",
    "\n",
    "plt.show()"
   ]
  },
  {
   "cell_type": "code",
   "execution_count": 47,
   "id": "327cf62b",
   "metadata": {},
   "outputs": [
    {
     "data": {
      "image/png": "[encoded data removed]",
      "text/plain": [
       "<Figure size 1296x576 with 1 Axes>"
      ]
     },
     "metadata": {
      "needs_background": "light"
     },
     "output_type": "display_data"
    }
   ],
   "source": [
    "plt.figure(figsize=(18,8))\n",
    "\n",
    "plt.xlabel(\"Year\", labelpad=20, fontsize=15)\n",
    "plt.ylabel(\"% Increase\",labelpad=10, fontsize=15)\n",
    "plt.grid(zorder=0)\n",
    "plt.title(\"Tuition fee & Inflation & Real wage\", fontsize=20, pad=20)\n",
    "xticks = np.arange(2012,2022,1)\n",
    "plt.xticks(xticks)\n",
    "\n",
    "plt.plot(df.index, df[\"cum_rates\"], marker=\"o\" , color=\"r\", linewidth=4, markersize=10)\n",
    "plt.plot(df.index, df[\"inf_fee\"], marker=\"o\" , color=\"g\", linewidth=4, markersize=10)\n",
    "plt.plot(df.index, df[\"real_wage_rate\"], marker=\"o\" , color=\"b\", linewidth=4, markersize=10)\n",
    "\n",
    "plt.legend(['Inflation',\"Inflated tutition fee\",\"Monthly mean real wage\"], ncol=5, loc='upper center',bbox_to_anchor=(0.5, -0.15),frameon=False,fontsize=16)\n",
    "\n",
    "plt.show()"
   ]
  },
  {
   "cell_type": "code",
   "execution_count": null,
   "id": "1590a41a",
   "metadata": {},
   "outputs": [],
   "source": []
  }
 ],
 "metadata": {
  "kernelspec": {
   "display_name": "Python 3",
   "language": "python",
   "name": "python3"
  },
  "language_info": {
   "codemirror_mode": {
    "name": "ipython",
    "version": 3
   },
   "file_extension": ".py",
   "mimetype": "text/x-python",
   "name": "python",
   "nbconvert_exporter": "python",
   "pygments_lexer": "ipython3",
   "version": "3.8.8"
  }
 },
 "nbformat": 4,
 "nbformat_minor": 5
}
